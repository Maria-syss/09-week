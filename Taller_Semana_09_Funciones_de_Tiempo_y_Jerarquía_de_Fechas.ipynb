{
  "cells": [
    {
      "cell_type": "markdown",
      "metadata": {
        "id": "view-in-github",
        "colab_type": "text"
      },
      "source": [
        "<a href=\"https://colab.research.google.com/github/Maria-syss/09-week/blob/main/Taller_Semana_09_Funciones_de_Tiempo_y_Jerarqu%C3%ADa_de_Fechas.ipynb\" target=\"_parent\"><img src=\"https://colab.research.google.com/assets/colab-badge.svg\" alt=\"Open In Colab\"/></a>"
      ]
    },
    {
      "cell_type": "markdown",
      "source": [
        "#**TALLER 1 CORTE 2**\n",
        "\n",
        "##**1. Introducción**\n",
        "###Breve descripción del propósito del manual\n",
        "* Ofrecer una guía sobre la manipulación de datos temporales en el contexto de la ciencia de datos, utilizando herramientas comunes como Python y la biblioteca.\n",
        "\n",
        "###Importancia de la gestión de fechas y tiempos en ciencia de datos\n",
        "* La gestión de fechas y tiempos es crucial para obtener información significativa y tomar decisiones informadas y fundamental en el desarrollo de software y la administración de bases de datos.\n",
        "* Posibilita realizar tareas como: seguimiento de eventos a lo largo del tiempo, realización de predicciones basadas en tendencias temporales y análisis de series temporales para detectar patrones o anomalías.\n",
        "\n",
        "##**2. Funciones de Tiempo**\n",
        "\n",
        "###¿Qué son las funciones de tiempo y su utilidad en la manipulación de datos temporales?\n",
        "* Las funciones de tiempo son herramientas proporcionadas por bibliotecas como pandas en Python que permiten manejar, manipular y analizar datos temporales de manera eficiente Y trabajar con fechas y horas para extraer información, realizar análisis y transformaciones, y organizar datos en función del tiempo.\n",
        "* Son esenciales para diversos tipos de análisis y tareas en ciencia de datos, ya que el tiempo es un factor clave en muchos conjuntos de datos (Análisis de Series Temporales, Pronósticos y Predicciones y Filtrar y Subconjuntar Datos).\n",
        "\n",
        "\n",
        "\n"
      ],
      "metadata": {
        "id": "8abYRmfktUio"
      }
    },
    {
      "cell_type": "markdown",
      "source": [
        "##**Caso práctico**"
      ],
      "metadata": {
        "id": "XnplQ0JmyKyN"
      }
    },
    {
      "cell_type": "code",
      "source": [
        "import pandas as pd\n",
        "\n",
        "# Crear un rango de fechas\n",
        "fechas = pd.date_range(start='2022', periods=15, freq='D')\n",
        "print(fechas)\n",
        "\n",
        "# Extraer elementos\n",
        "df = pd.DataFrame({'fechas': fechas})\n",
        "df['año'] = df['fechas'].dt.year\n",
        "df['mes'] = df['fechas'].dt.month\n",
        "df['día'] = df['fechas'].dt.day\n",
        "df['día_semana'] = df['fechas'].dt.day_name()"
      ],
      "metadata": {
        "id": "wf7fqxsE0Tcy",
        "outputId": "56c926ab-48af-4df2-d321-f73d007922d9",
        "colab": {
          "base_uri": "https://localhost:8080/"
        }
      },
      "execution_count": null,
      "outputs": [
        {
          "output_type": "stream",
          "name": "stdout",
          "text": [
            "DatetimeIndex(['2022-01-01', '2022-01-02', '2022-01-03', '2022-01-04',\n",
            "               '2022-01-05', '2022-01-06', '2022-01-07', '2022-01-08',\n",
            "               '2022-01-09', '2022-01-10', '2022-01-11', '2022-01-12',\n",
            "               '2022-01-13', '2022-01-14', '2022-01-15'],\n",
            "              dtype='datetime64[ns]', freq='D')\n"
          ]
        }
      ]
    },
    {
      "cell_type": "markdown",
      "source": [
        "##**Actividad**"
      ],
      "metadata": {
        "id": "AyVF-_OUygjk"
      }
    },
    {
      "cell_type": "code",
      "source": [
        "import pandas as pd\n",
        "fechas = pd.date_range(start='2022-07-01', periods=20, freq='D')\n",
        "df = pd.DataFrame({'fecha': fechas})\n",
        "df['días desde'] = (df['fecha'] - pd.to_datetime('2022-07-12')).dt.days\n",
        "df_filtrado = df[df['fecha'] > '2022-07-12']\n",
        "print(\"Días desde 2022-07-12:\")\n",
        "print(df)\n",
        "\n",
        "print(\"\\nFechas después del 12 de julio:\")\n",
        "print(df_filtrado)"
      ],
      "metadata": {
        "colab": {
          "base_uri": "https://localhost:8080/"
        },
        "id": "ATE2YhWkq9no",
        "outputId": "27386244-a659-4460-a8a2-ce7c24ca6c0b"
      },
      "execution_count": null,
      "outputs": [
        {
          "output_type": "stream",
          "name": "stdout",
          "text": [
            "Días desde 2022-07-12:\n",
            "        fecha  días desde\n",
            "0  2022-07-01         -11\n",
            "1  2022-07-02         -10\n",
            "2  2022-07-03          -9\n",
            "3  2022-07-04          -8\n",
            "4  2022-07-05          -7\n",
            "5  2022-07-06          -6\n",
            "6  2022-07-07          -5\n",
            "7  2022-07-08          -4\n",
            "8  2022-07-09          -3\n",
            "9  2022-07-10          -2\n",
            "10 2022-07-11          -1\n",
            "11 2022-07-12           0\n",
            "12 2022-07-13           1\n",
            "13 2022-07-14           2\n",
            "14 2022-07-15           3\n",
            "15 2022-07-16           4\n",
            "16 2022-07-17           5\n",
            "17 2022-07-18           6\n",
            "18 2022-07-19           7\n",
            "19 2022-07-20           8\n",
            "\n",
            "Fechas después del 12 de julio:\n",
            "        fecha  días desde\n",
            "12 2022-07-13           1\n",
            "13 2022-07-14           2\n",
            "14 2022-07-15           3\n",
            "15 2022-07-16           4\n",
            "16 2022-07-17           5\n",
            "17 2022-07-18           6\n",
            "18 2022-07-19           7\n",
            "19 2022-07-20           8\n"
          ]
        }
      ]
    },
    {
      "cell_type": "markdown",
      "source": [
        "##**Explicación actividad**\n",
        "####**1. Generación de las fechas**\n",
        "Se creó un rango de 20 fechas consecutivas a partir del 1 de julio de 2022.\n",
        "####**2. Cálculo de días desde una fecha específica**\n",
        "Se definió como referencia el 12 de julio de 2022, y se calculó la cantidad de días que han pasado desde esa fecha para cada fila.\n",
        "Si el resultado es negativo, la fecha es anterior al 12 de julio.\n",
        "\n",
        "*   Si el resultado es negativo, la fecha es anterior al 12 de julio.\n",
        "*   Si es 0, es el mismo día.\n",
        "* Si es positivo, la fecha es después.\n",
        "\n",
        "####**3. Filtrado por fechas posteriores**\n",
        "Se aplicó un filtro para obtener únicamente las fechas posteriores al 12 de julio de 2022."
      ],
      "metadata": {
        "id": "V7rlFeKNwNB9"
      }
    },
    {
      "cell_type": "markdown",
      "source": [
        "##**3. Jerarquía de Fechas**\n",
        "\n",
        "###¿Cómo organizar y agrupar datos por componentes temporales (año, trimestre, mes, semana, etc.)?\n",
        "* Proceso fundamental cuando se trabaja con series temporales. Este tipo de agrupación ayuda a identificar patrones, tendencias y realizar análisis comparativos. Teniendo en cuenta el manejo de fechas faltantes, intervalos irregulares y frecuencia personalizada)"
      ],
      "metadata": {
        "id": "9Sy_tWtB17tb"
      }
    },
    {
      "cell_type": "markdown",
      "source": [
        "##**Caso práctico**"
      ],
      "metadata": {
        "id": "lzBwMmcAzbLN"
      }
    },
    {
      "cell_type": "code",
      "source": [
        "import numpy as np\n",
        "\n",
        "df = pd.DataFrame({\n",
        "    'fecha': pd.date_range(start='2023-01-01', periods=90, freq='D'),\n",
        "    'ventas': np.random.randint(100, 1000, size=90)\n",
        "})\n",
        "\n",
        "df['mes'] = df['fecha'].dt.to_period('M')\n",
        "ventas_mensuales = df.groupby('mes')['ventas'].sum()\n",
        "ventas_mensuales"
      ],
      "metadata": {
        "id": "X5nAQOckzEGU"
      },
      "execution_count": null,
      "outputs": []
    },
    {
      "cell_type": "markdown",
      "source": [
        "##**Actividad**"
      ],
      "metadata": {
        "id": "ldfxgI-pzqXM"
      }
    },
    {
      "cell_type": "code",
      "source": [
        "import pandas as pd\n",
        "import numpy as np\n",
        "import matplotlib.pyplot as plt\n",
        "\n",
        "df = pd.DataFrame({\n",
        "    'fecha': pd.date_range(start='2022-01-12', periods=90, freq='D'),\n",
        "    'ventas': np.random.randint(100, 1000, size=90)\n",
        "})\n",
        "\n",
        "df['trimestre'] = df['fecha'].dt.to_period('Q').astype(str)\n",
        "df['trimestre'] = df['trimestre'].apply(lambda x: f\"{x[:4]} - Trimestre {x[-1]}\")\n",
        "estadisticas = df.groupby('trimestre')['ventas'].agg(promedio='mean', minimo='min', maximo='max')\n",
        "\n",
        "print(\"Estadísticas por trimestre:\")\n",
        "print(estadisticas)\n",
        "\n",
        "df['mes'] = df['fecha'].dt.to_period('M')\n",
        "promedio_mensual = df.groupby('mes')['ventas'].mean()\n",
        "\n",
        "promedio_mensual.plot(kind='bar', color='skyblue')\n",
        "plt.title(\"Promedio de ventas por mes\")\n",
        "plt.xlabel(\"Mes\")\n",
        "plt.ylabel(\"Ventas\")\n",
        "plt.xticks(rotation=45)\n",
        "plt.tight_layout()\n",
        "plt.show()"
      ],
      "metadata": {
        "colab": {
          "base_uri": "https://localhost:8080/",
          "height": 574
        },
        "id": "EwqJ4aPczwsF",
        "outputId": "f80cfd3a-caae-4270-d479-be896b4a8bce"
      },
      "execution_count": null,
      "outputs": [
        {
          "output_type": "stream",
          "name": "stdout",
          "text": [
            "Estadísticas por trimestre:\n",
            "                      promedio  minimo  maximo\n",
            "trimestre                                     \n",
            "2022 - Trimestre 1  568.468354     106     969\n",
            "2022 - Trimestre 2  730.000000     306     993\n"
          ]
        },
        {
          "output_type": "display_data",
          "data": {
            "text/plain": [
              "<Figure size 640x480 with 1 Axes>"
            ],
            "image/png": "[encoded data removed]"
          },
          "metadata": {}
        }
      ]
    },
    {
      "cell_type": "markdown",
      "source": [
        "##**Explicación actividad**\n",
        "####**1. Agrupación por trimestre con estadísticas descriptivas**\n",
        "* Generé un conjunto de datos con fechas diarias y valores de ventas aleatorios.\n",
        "* Luego transformé la columna de fechas para agrupar por trimestres.\n",
        "Después, establecí un valor exacto (2022 - Trimestre 1).\n",
        "* Finalmente agrupé los datos por trimestre y calculé tres estadísticas: promedio, mínimo y máximo.\n",
        "\n",
        "**Permitiendome ver como variaron las ventas en cada trimestre.**\n",
        "\n",
        "####**2. Visualización del promedio mensual de ventas**\n",
        "* Convertí la columa de fechas para obtener **mes**.\n",
        "* Calculé el promedio de ventas por mes.\n",
        "* Finalmente, hice una gráfica de barras para visualizar los resultados."
      ],
      "metadata": {
        "id": "zjcLWyw-15KI"
      }
    },
    {
      "cell_type": "markdown",
      "source": [
        "##**Conclusión**\n",
        "\n",
        "###¿Qué aprendiste?\n",
        "\n",
        "Aprendí a trabajar con fechas, poder agrupar datos por periodos como los que se trabajaron en las actividades: meses y trimestres. Tambien a calcular estadisticas como promedio y a visualizar los datos para poder interpretarlos de manera mas facil y clara.\n",
        "\n",
        "###¿En qué escenarios reales se aplicaría lo aprendido?\n",
        "\n",
        "Yo creo que se podria aplicar para:\n",
        "1. analizar las ventas mensuales o trimestrales de una empresa.\n",
        "2. Estudiar y analizar el comportamiento de los datos en sectores como el comercio o transporte.\n",
        "\n",
        "###¿Qué dificultades encontraste y cómo las resolviste?\n",
        "\n",
        "Al momento de querer cmabiar el nombre de algunas columnas o que se vieran mejor ciertas columnas, tambien cuando queria cambiar las fechas de referencia o el periodo me equivocaba o enredaba. Finalmente me devolia, miraba como estaba y cual otra podia ser la parte a corregir, si no podia encontrarla, le subia el codigo a una IA para que me ayudara a solucionar."
      ],
      "metadata": {
        "id": "NwkFl87A3eeG"
      }
    }
  ],
  "metadata": {
    "colab": {
      "provenance": [],
      "include_colab_link": true
    },
    "kernelspec": {
      "display_name": "Python 3",
      "name": "python3"
    }
  },
  "nbformat": 4,
  "nbformat_minor": 0
}